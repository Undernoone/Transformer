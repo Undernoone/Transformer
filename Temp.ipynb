{
 "cells": [
  {
   "cell_type": "code",
   "id": "initial_id",
   "metadata": {
    "collapsed": true,
    "ExecuteTime": {
     "end_time": "2024-09-02T05:36:44.823447Z",
     "start_time": "2024-09-02T05:36:42.074807Z"
    }
   },
   "source": [
    "import torch\n",
    "from torch import nn"
   ],
   "outputs": [],
   "execution_count": 1
  },
  {
   "metadata": {
    "ExecuteTime": {
     "end_time": "2024-09-02T05:43:17.226369Z",
     "start_time": "2024-09-02T05:43:17.209369Z"
    }
   },
   "cell_type": "code",
   "source": [
    "a = torch.tensor([[1, 2, 3],[2, 3, 4]])\n",
    "a.shape"
   ],
   "id": "948b8bc7dd50105",
   "outputs": [
    {
     "data": {
      "text/plain": [
       "torch.Size([2, 3])"
      ]
     },
     "execution_count": 12,
     "metadata": {},
     "output_type": "execute_result"
    }
   ],
   "execution_count": 12
  },
  {
   "metadata": {},
   "cell_type": "markdown",
   "source": "",
   "id": "f0dc4044c941de0a"
  },
  {
   "metadata": {
    "ExecuteTime": {
     "end_time": "2024-09-02T05:43:22.414305Z",
     "start_time": "2024-09-02T05:43:22.395306Z"
    }
   },
   "cell_type": "code",
   "source": [
    "ebd = nn.Embedding(5,24)\n",
    "# 5是词表大小，24是embedding的维度\n",
    "# Embedding layer 会将输入的索引转换为对应的词向量，具体实现不必深究"
   ],
   "id": "9627719a4b69cd78",
   "outputs": [],
   "execution_count": 13
  },
  {
   "metadata": {
    "ExecuteTime": {
     "end_time": "2024-09-02T05:46:32.975734Z",
     "start_time": "2024-09-02T05:46:32.957734Z"
    }
   },
   "cell_type": "code",
   "source": [
    "bbb = ebd(a)\n",
    "bbb"
   ],
   "id": "2c736489fdf0f1cc",
   "outputs": [
    {
     "data": {
      "text/plain": [
       "tensor([[[ 0.3022,  0.7110,  0.7247, -0.9899,  1.1896,  1.1223,  0.4721,\n",
       "          -0.8835,  0.1483,  1.9947,  0.4631,  0.9237,  1.9954, -0.3253,\n",
       "           0.4635, -1.4715, -0.7147,  1.8182,  1.1912, -0.0660,  0.3911,\n",
       "           0.6590,  0.7027,  0.8926],\n",
       "         [ 0.4237,  0.2070,  0.1252, -0.3865,  1.1665,  0.6669, -0.6959,\n",
       "           0.0956,  1.5112,  1.2999, -1.1915,  0.8043, -0.0947, -0.6680,\n",
       "           0.6407, -1.4620,  0.6439, -0.4629,  0.9672, -1.0973,  0.7160,\n",
       "           0.3142, -0.4873,  0.3657],\n",
       "         [-0.0677,  0.6318,  0.1647,  0.7475, -0.1994,  0.3606,  1.0911,\n",
       "           0.5458,  0.1696, -0.4260, -1.4589, -0.8302, -2.3378,  0.5615,\n",
       "          -0.1146,  0.0238,  1.5104, -0.8136, -0.8159, -0.4874,  0.0102,\n",
       "          -3.4367,  0.7418, -0.4559]],\n",
       "\n",
       "        [[ 0.4237,  0.2070,  0.1252, -0.3865,  1.1665,  0.6669, -0.6959,\n",
       "           0.0956,  1.5112,  1.2999, -1.1915,  0.8043, -0.0947, -0.6680,\n",
       "           0.6407, -1.4620,  0.6439, -0.4629,  0.9672, -1.0973,  0.7160,\n",
       "           0.3142, -0.4873,  0.3657],\n",
       "         [-0.0677,  0.6318,  0.1647,  0.7475, -0.1994,  0.3606,  1.0911,\n",
       "           0.5458,  0.1696, -0.4260, -1.4589, -0.8302, -2.3378,  0.5615,\n",
       "          -0.1146,  0.0238,  1.5104, -0.8136, -0.8159, -0.4874,  0.0102,\n",
       "          -3.4367,  0.7418, -0.4559],\n",
       "         [ 0.0868,  0.0147,  0.0861,  1.1744, -0.0898, -1.3341, -1.1400,\n",
       "           1.0343, -0.6005,  0.5938, -1.5154,  0.1902, -0.3931,  1.2159,\n",
       "          -0.9233, -0.0462, -0.8463, -0.2394, -0.1756,  0.9285, -0.3202,\n",
       "           1.8653, -1.2305, -0.9107]]], grad_fn=<EmbeddingBackward0>)"
      ]
     },
     "execution_count": 17,
     "metadata": {},
     "output_type": "execute_result"
    }
   ],
   "execution_count": 17
  },
  {
   "metadata": {
    "ExecuteTime": {
     "end_time": "2024-09-02T05:46:29.666244Z",
     "start_time": "2024-09-02T05:46:29.645643Z"
    }
   },
   "cell_type": "code",
   "source": "bbb.shape",
   "id": "d2b2c0520d27202",
   "outputs": [
    {
     "data": {
      "text/plain": [
       "torch.Size([2, 3, 24])"
      ]
     },
     "execution_count": 16,
     "metadata": {},
     "output_type": "execute_result"
    }
   ],
   "execution_count": 16
  },
  {
   "metadata": {
    "ExecuteTime": {
     "end_time": "2024-09-02T05:58:02.567467Z",
     "start_time": "2024-09-02T05:58:02.559467Z"
    }
   },
   "cell_type": "code",
   "source": [
    "a = torch.tensor([[1, 1, 1, 1],[1, 1, 1, 1]])\n",
    "a.shape"
   ],
   "id": "c6f89634af0c4aaf",
   "outputs": [
    {
     "data": {
      "text/plain": [
       "torch.Size([2, 4])"
      ]
     },
     "execution_count": 18,
     "metadata": {},
     "output_type": "execute_result"
    }
   ],
   "execution_count": 18
  },
  {
   "metadata": {
    "ExecuteTime": {
     "end_time": "2024-09-02T05:58:47.546666Z",
     "start_time": "2024-09-02T05:58:47.541667Z"
    }
   },
   "cell_type": "code",
   "source": [
    "pos = torch.tensor([0, 1, 2, 3])\n",
    "pos.shape"
   ],
   "id": "c24febadecd467ce",
   "outputs": [
    {
     "data": {
      "text/plain": [
       "torch.Size([4])"
      ]
     },
     "execution_count": 19,
     "metadata": {},
     "output_type": "execute_result"
    }
   ],
   "execution_count": 19
  },
  {
   "metadata": {
    "ExecuteTime": {
     "end_time": "2024-09-02T06:00:17.872519Z",
     "start_time": "2024-09-02T06:00:17.854520Z"
    }
   },
   "cell_type": "code",
   "source": [
    "word_ebd = ebd(a)\n",
    "word_ebd.shape"
   ],
   "id": "8662bc106365ede6",
   "outputs": [
    {
     "data": {
      "text/plain": [
       "torch.Size([2, 4, 24])"
      ]
     },
     "execution_count": 20,
     "metadata": {},
     "output_type": "execute_result"
    }
   ],
   "execution_count": 20
  },
  {
   "metadata": {},
   "cell_type": "code",
   "outputs": [],
   "execution_count": null,
   "source": "",
   "id": "a94f2f7aa96b2b1c"
  },
  {
   "metadata": {},
   "cell_type": "code",
   "outputs": [],
   "execution_count": null,
   "source": "",
   "id": "6f922e0e297434f2"
  }
 ],
 "metadata": {
  "kernelspec": {
   "display_name": "Python 3",
   "language": "python",
   "name": "python3"
  },
  "language_info": {
   "codemirror_mode": {
    "name": "ipython",
    "version": 2
   },
   "file_extension": ".py",
   "mimetype": "text/x-python",
   "name": "python",
   "nbconvert_exporter": "python",
   "pygments_lexer": "ipython2",
   "version": "2.7.6"
  }
 },
 "nbformat": 4,
 "nbformat_minor": 5
}
